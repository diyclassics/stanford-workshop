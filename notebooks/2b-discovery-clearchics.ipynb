{
 "cells": [
  {
   "cell_type": "code",
   "execution_count": null,
   "metadata": {},
   "outputs": [],
   "source": [
    "# Imports\n",
    "\n",
    "import sys\n",
    "from cltkreaders.grc import GreekTesseraeCorpusReader\n",
    "import unicodedata\n",
    "import re\n",
    "from natsort import natsorted\n",
    "from pprint import pprint"
   ]
  },
  {
   "cell_type": "code",
   "execution_count": null,
   "metadata": {},
   "outputs": [],
   "source": [
    "# Load corpus, get files\n",
    "T = GreekTesseraeCorpusReader()\n",
    "homer = [file for file in T.fileids() if 'homer' in file]\n",
    "\n",
    "print(homer[:5])"
   ]
  },
  {
   "cell_type": "code",
   "execution_count": null,
   "metadata": {},
   "outputs": [],
   "source": [
    "# Sort by book number\n",
    "\n",
    "homer = natsorted(homer)\n",
    "print(homer)"
   ]
  },
  {
   "cell_type": "markdown",
   "metadata": {},
   "source": [
    "## Discovering 'clearchics'\n",
    "\n",
    "from Athenaeus 11.87, tr. Yonge ([Perseus](http://www.perseus.tufts.edu/hopper/text?doc=Perseus%3Atext%3A2013.01.0003%3Abook%3D11%3Achapter%3D87))\n",
    ">This, then, was what Clearchus said; and the things which he says one ought to propose, are, I imagine, such as these. For one person to quote a line in Homer beginning with Alpha, and ending with the same letter, such as...  \n",
    ">  \n",
    "> ἀγχοῦ δ᾽ ἱσταμένη ἔπεα πτερόεντα προσηύδα.  \n",
    "> ἀλλ᾽ ἄγε νῦν μάστιγα καὶ ἡνία σιγαλόεντα.  \n",
    "> ἀσπίδας εὐκύκλους λαισήαϊ τε πτερόεντα.  "
   ]
  },
  {
   "cell_type": "code",
   "execution_count": null,
   "metadata": {},
   "outputs": [],
   "source": [
    "# Get citation and text per line\n",
    "\n",
    "lines = []\n",
    "\n",
    "for doc_row in T.doc_rows(homer):\n",
    "    lines.extend(doc_row.items())\n",
    "\n",
    "doc_rows = dict(lines)\n",
    "\n",
    "citations, lines = zip(*lines)\n",
    "\n",
    "print(citations[:5])\n",
    "print(lines[:5])"
   ]
  },
  {
   "cell_type": "code",
   "execution_count": null,
   "metadata": {},
   "outputs": [],
   "source": [
    "# Describe lines in Homer\n",
    "\n",
    "print(f'There are {len(lines)} lines in Homer.')"
   ]
  },
  {
   "cell_type": "code",
   "execution_count": null,
   "metadata": {},
   "outputs": [],
   "source": [
    "# Helper function to remove diacriticals\n",
    "\n",
    "def remove_diacriticals(text):\n",
    "    combining_character_table = dict.fromkeys(c for c in range(sys.maxunicode) if unicodedata.combining(chr(c)))\n",
    "    text = unicodedata.normalize('NFD', text)\n",
    "    text = text.translate(combining_character_table)\n",
    "    return text"
   ]
  },
  {
   "cell_type": "code",
   "execution_count": null,
   "metadata": {},
   "outputs": [],
   "source": [
    "# Helper function for preprocessing\n",
    "def preprocess(text, lower=True, punctuation=False, numbers=False, remove_spaces=False, diacriticals=True):\n",
    "    if lower:\n",
    "        text = text.lower() # Lowercase\n",
    "\n",
    "    if not punctuation:\n",
    "        # Remove punctuation\n",
    "        punctuation =\"\\\"#$%&\\'()*+,/:;<=>@[\\]^_`{|}~.?!«»—“-”\"\n",
    "        misc = '¡£¤¥¦§¨©¯°±²³´µ¶·¸¹º¼½¾¿÷·–‘’†•ↄ∞⏑〈〉（）'\n",
    "        misc += punctuation\n",
    "        translator = str.maketrans({key: \" \" for key in misc})\n",
    "        text = text.translate(translator)\n",
    "\n",
    "    if not numbers:\n",
    "        # Remove numbers\n",
    "        translator = str.maketrans({key: \" \" for key in '0123456789'})\n",
    "        text = text.translate(translator)\n",
    "\n",
    "    if remove_spaces:\n",
    "        text = \"\".join(text.split())\n",
    "\n",
    "    if not diacriticals:\n",
    "        text = remove_diacriticals(text)\n",
    "\n",
    "    # Fix spacing\n",
    "    text = re.sub(' +', ' ', text)\n",
    "\n",
    "    text = unicodedata.normalize('NFC', text)\n",
    "\n",
    "    return text.strip()"
   ]
  },
  {
   "cell_type": "code",
   "execution_count": null,
   "metadata": {},
   "outputs": [],
   "source": [
    "# Preprocess lines, i.e. case, numbers, punctuation, etc.\n",
    "prep_lines = [preprocess(line, diacriticals=True) for line in lines]\n",
    "pprint(prep_lines[:5])"
   ]
  },
  {
   "cell_type": "code",
   "execution_count": null,
   "metadata": {},
   "outputs": [],
   "source": [
    "# Remove diacriticals; fastest way\n",
    "\n",
    "concatenated_lines = \"\\n\".join(prep_lines)\n",
    "concatenated_lines = preprocess(concatenated_lines, diacriticals=False)\n",
    "prep_lines = concatenated_lines.split('\\n')\n",
    "print(len(prep_lines))\n",
    "\n",
    "print(prep_lines[:5])"
   ]
  },
  {
   "cell_type": "code",
   "execution_count": null,
   "metadata": {},
   "outputs": [],
   "source": [
    "# Check for clearchics\n",
    "\n",
    "clearchics = []\n",
    "\n",
    "for citation, line in zip(citations, prep_lines):\n",
    "    if line[0] == line[-1]:\n",
    "        clearchics.append(citation)\n",
    "\n",
    "print(f'There are {len(clearchics)} clearchics in Homer.')"
   ]
  },
  {
   "cell_type": "code",
   "execution_count": null,
   "metadata": {},
   "outputs": [],
   "source": [
    "import random\n",
    "\n",
    "clearchic_sample = random.sample(clearchics, 10)\n",
    "\n",
    "print('Here is a random sample of ten (10) clearchics from Homer...')\n",
    "\n",
    "for i, clearchic in enumerate(clearchic_sample, 1):\n",
    "    print(f'{i}: {clearchic}: {doc_rows[clearchic]}')"
   ]
  },
  {
   "cell_type": "code",
   "execution_count": null,
   "metadata": {},
   "outputs": [],
   "source": [
    "# Note how above we made a dict with citations as keys and original lines as values to make look ups easier later\n",
    "\n",
    "doc_rows['<hom.od 23.112>']"
   ]
  }
 ],
 "metadata": {
  "interpreter": {
   "hash": "f28f2655caa070e39b75c186f98b8f52da1af34bdb8dab0b58a93e2439370a2a"
  },
  "kernelspec": {
   "display_name": "Python 3.8.12 64-bit ('stanford')",
   "language": "python",
   "name": "python3"
  },
  "language_info": {
   "codemirror_mode": {
    "name": "ipython",
    "version": 3
   },
   "file_extension": ".py",
   "mimetype": "text/x-python",
   "name": "python",
   "nbconvert_exporter": "python",
   "pygments_lexer": "ipython3",
   "version": "3.8.12"
  },
  "orig_nbformat": 4
 },
 "nbformat": 4,
 "nbformat_minor": 2
}
